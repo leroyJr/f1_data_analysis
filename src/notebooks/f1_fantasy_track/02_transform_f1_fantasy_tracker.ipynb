{
 "cells": [
  {
   "cell_type": "markdown",
   "id": "96af7890-ccee-4307-b9c4-7438cf8f2f3d",
   "metadata": {},
   "source": [
    "## Load Data"
   ]
  },
  {
   "cell_type": "code",
   "execution_count": null,
   "id": "3239b841-5d3a-46f3-ae7b-c0cfa15f8be6",
   "metadata": {},
   "outputs": [],
   "source": [
    "from pathlib import Path\n",
    "import pandas as pd\n",
    "import numpy as np\n",
    "\n",
    "data_path = Path('./data/raw')\n",
    "data_files = list(data_path.glob('*.csv'))\n",
    "data_files"
   ]
  },
  {
   "cell_type": "code",
   "execution_count": null,
   "id": "ba9e19b6-c5f0-4f74-a416-7bab58d76a32",
   "metadata": {},
   "outputs": [],
   "source": [
    "frames = {}\n",
    "\n",
    "for f in data_files:\n",
    "    frames[f.stem] = pd.read_csv(f, sep='|')\n"
   ]
  },
  {
   "cell_type": "code",
   "execution_count": null,
   "id": "3a3c0582-bdeb-4c05-a55f-3685b4a63d30",
   "metadata": {},
   "outputs": [],
   "source": [
    "pts_driver = frames.get('driver_pts').copy()\n",
    "pts_team = frames.get('team_pts').copy()\n",
    "price_driver = frames.get('driver_price').copy()\n",
    "price_team = frames.get('team_price').copy()"
   ]
  },
  {
   "cell_type": "markdown",
   "id": "6fb43f5c-6ea9-44ca-8474-7268adaad1ae",
   "metadata": {},
   "source": [
    "## Clean and Calculate"
   ]
  },
  {
   "cell_type": "markdown",
   "id": "73cffa98-6392-4f44-b53e-412321dc10d3",
   "metadata": {},
   "source": [
    "### Points Tables"
   ]
  },
  {
   "cell_type": "code",
   "execution_count": null,
   "id": "5d88d95d-f323-4565-8f9d-6a0fdcce9afd",
   "metadata": {},
   "outputs": [],
   "source": [
    "track_cols = [col for col in pts_driver.columns if (len(col) == 3 and col.isupper()) or col.endswith('.1') or col.endswith('.2')]\n",
    "track_cols"
   ]
  },
  {
   "cell_type": "markdown",
   "id": "6f5a7cb9-4d6b-4c3f-8666-245a16605e9d",
   "metadata": {},
   "source": [
    "#### Tracks with Scores"
   ]
  },
  {
   "cell_type": "code",
   "execution_count": null,
   "id": "a7c82fd6-f3b8-4956-946e-d8f0acdfcd8b",
   "metadata": {},
   "outputs": [],
   "source": [
    "keep_track_cols = pts_driver[track_cols].sum()[pts_driver[track_cols].sum() > 0].index\n",
    "keep_track_cols"
   ]
  },
  {
   "cell_type": "code",
   "execution_count": null,
   "id": "664106d5-e034-4204-bd10-994002790c67",
   "metadata": {},
   "outputs": [],
   "source": [
    "pts_driver[keep_track_cols]"
   ]
  },
  {
   "cell_type": "code",
   "execution_count": null,
   "id": "7079281a-91e0-4e43-bb03-cdc89c4a1908",
   "metadata": {},
   "outputs": [],
   "source": [
    "pts_driver[keep_track_cols].mean(axis=1)"
   ]
  },
  {
   "cell_type": "markdown",
   "id": "3feaea73-6212-4087-b802-1d614f0dffff",
   "metadata": {},
   "source": [
    "#### Points Metrics"
   ]
  },
  {
   "cell_type": "code",
   "execution_count": null,
   "id": "c8ae3558-42eb-4aa6-9601-74007ccd96d1",
   "metadata": {},
   "outputs": [],
   "source": [
    "def calc_metrics(df):\n",
    "\n",
    "    # df = df.replace(0, np.nan).dropna(axis=1)\n",
    "\n",
    "    df['avg'] = df[keep_track_cols].mean(axis=1)\n",
    "    df['avg_8r'] = df[keep_track_cols[-8:]].mean(axis=1)\n",
    "    df['avg_4r'] = df[keep_track_cols[-4:]].mean(axis=1)\n",
    "    df['max'] = df[keep_track_cols].max(axis=1)\n",
    "    df['median'] = df[keep_track_cols].median(axis=1)\n",
    "    \n",
    "    return df\n",
    "\n",
    "pts_driver = calc_metrics(pts_driver)\n",
    "pts_team = calc_metrics(pts_team)\n",
    "\n",
    "\n",
    "driver_total_avg_points = pts_driver['avg'].sum()  # The total points on average for all drivers\n",
    "car_total_avg_points = pts_team['avg'].sum()"
   ]
  },
  {
   "cell_type": "code",
   "execution_count": null,
   "id": "afebaf17-82ac-4200-891b-a6182003e875",
   "metadata": {},
   "outputs": [],
   "source": [
    "keep_track_cols[-4:]"
   ]
  },
  {
   "cell_type": "code",
   "execution_count": null,
   "id": "3514c8ae-e519-4fb2-90f8-9f94049c34d7",
   "metadata": {},
   "outputs": [],
   "source": [
    "pts_driver"
   ]
  },
  {
   "cell_type": "markdown",
   "id": "18bf2dfc-92ba-44cf-a90d-9a566a865a0d",
   "metadata": {},
   "source": [
    "### Price Tables"
   ]
  },
  {
   "cell_type": "code",
   "execution_count": null,
   "id": "4a837231-7c72-41fd-b97c-61b13847a39e",
   "metadata": {},
   "outputs": [],
   "source": [
    "def fix_prices(df):\n",
    "    for col in ['Current Price', 'Season Start PriceSeason Price']: \n",
    "        df[col] = df[col].str.replace('$', '').str.replace('m', '').astype(float)\n",
    "\n",
    "    return df\n",
    "\n",
    "price_driver = fix_prices(price_driver)\n",
    "price_team = fix_prices(price_team)"
   ]
  },
  {
   "cell_type": "code",
   "execution_count": null,
   "id": "16bab281-ccf8-449a-b988-c55f29fe81c0",
   "metadata": {},
   "outputs": [],
   "source": [
    "driver_total_price = price_driver['Current Price'].sum()\n",
    "car_total_price = price_team['Current Price'].sum()"
   ]
  },
  {
   "cell_type": "code",
   "execution_count": null,
   "id": "467536db-cd4c-4d7f-917f-4a8561726fc6",
   "metadata": {},
   "outputs": [],
   "source": [
    "car_total_price"
   ]
  },
  {
   "cell_type": "code",
   "execution_count": null,
   "id": "690a9dc4-c5b9-43f8-a686-1f52ae46a010",
   "metadata": {},
   "outputs": [],
   "source": [
    "price_team['Season Start PriceSeason Price'].sum()"
   ]
  },
  {
   "cell_type": "code",
   "execution_count": null,
   "id": "87ca2380-c8c1-4835-8e8a-398e30939b3e",
   "metadata": {},
   "outputs": [],
   "source": [
    "driver_total_price / (driver_total_price + car_total_price)"
   ]
  },
  {
   "cell_type": "code",
   "execution_count": null,
   "id": "6d08dddf-46b9-4f86-b61e-335c0c9bba74",
   "metadata": {},
   "outputs": [],
   "source": [
    "driver_total_price / car_total_price"
   ]
  },
  {
   "cell_type": "markdown",
   "id": "5e9a3dcc-ac38-44c6-bb2a-dd52ad6507f8",
   "metadata": {},
   "source": [
    "## Performance Prices\n",
    "\n",
    "Calculate the price a driver or car should fetch based on its actual scoring relative to:\n",
    "\n",
    "* The total price of all drivers/cars\n",
    "* Total average points scored by all drivers/cars"
   ]
  },
  {
   "cell_type": "code",
   "execution_count": null,
   "id": "f2cc9b29-f6ce-4082-beac-87b41db3e20d",
   "metadata": {},
   "outputs": [],
   "source": [
    "pts_driver['pts_price'] = pts_driver['avg'] * driver_total_price / driver_total_avg_points\n",
    "pts_team['pts_price'] = pts_team['avg'] * car_total_price / car_total_avg_points\n",
    "\n",
    "pts_driver['pts_price_med'] = pts_driver['median'] * driver_total_price / driver_total_avg_points\n",
    "pts_team['pts_price_med'] = pts_team['median'] * car_total_price / car_total_avg_points\n"
   ]
  },
  {
   "cell_type": "code",
   "execution_count": null,
   "id": "423e6fae-d55a-4d8e-8784-618d405bd033",
   "metadata": {},
   "outputs": [],
   "source": [
    "pts_driver"
   ]
  },
  {
   "cell_type": "code",
   "execution_count": null,
   "id": "96687700-78e5-4f0e-975b-26179e72832c",
   "metadata": {},
   "outputs": [],
   "source": []
  },
  {
   "cell_type": "markdown",
   "id": "8216faba-f9d6-416e-bf9f-efe0a1d9439d",
   "metadata": {},
   "source": [
    "## Merge"
   ]
  },
  {
   "cell_type": "markdown",
   "id": "b1065848-3640-491d-9d8c-e336090fb3d9",
   "metadata": {},
   "source": [
    "### Driver\n",
    "\n",
    "* Inconsistent naming, build a match"
   ]
  },
  {
   "cell_type": "code",
   "execution_count": null,
   "id": "c47be769-72d6-4b1a-aee9-b9da77760c5a",
   "metadata": {},
   "outputs": [],
   "source": [
    "# Driver Names don't match across tables, grab last name\n",
    "pts_driver['last_name'] = pts_driver['Driver'].str.split(' ', expand=True)[[0]]"
   ]
  },
  {
   "cell_type": "code",
   "execution_count": null,
   "id": "a867d043-6341-496a-8fac-13692d4b25aa",
   "metadata": {},
   "outputs": [],
   "source": [
    "# Cross product, identify which indices contain matching names\n",
    "index_map = pts_driver['last_name'].apply(lambda y: price_driver['Driver'].str.contains(y).astype(int))\n",
    "index_map"
   ]
  },
  {
   "cell_type": "code",
   "execution_count": null,
   "id": "601c891a-0444-456b-847e-0d9e80107c2a",
   "metadata": {},
   "outputs": [],
   "source": [
    "driver_map = pd.DataFrame(zip(*np.where(index_map.eq(1))), columns=['pts', 'price'])\n",
    "driver_map"
   ]
  },
  {
   "cell_type": "code",
   "execution_count": null,
   "id": "995c46de-bb01-484b-beba-e102ad4a863e",
   "metadata": {},
   "outputs": [],
   "source": [
    "driver_df = pts_driver.merge(driver_map, left_index=True, right_on='pts').merge(price_driver, left_on='price', right_index=True, suffixes=['', '_price'])\n",
    "driver_df"
   ]
  },
  {
   "cell_type": "markdown",
   "id": "b1a66a28-2adc-41e2-9b40-b0ca7bfc485d",
   "metadata": {},
   "source": [
    "### Car/Team Join\n",
    "\n",
    "Straightforward"
   ]
  },
  {
   "cell_type": "code",
   "execution_count": null,
   "id": "dcd61b63-be42-40cb-a0c0-9b57f403ade6",
   "metadata": {},
   "outputs": [],
   "source": [
    "car_df = pts_team.merge(price_team, on='Team')"
   ]
  },
  {
   "cell_type": "code",
   "execution_count": null,
   "id": "2115b03e-9b76-4370-8dfd-6161edeef275",
   "metadata": {},
   "outputs": [],
   "source": [
    "car_df"
   ]
  },
  {
   "cell_type": "markdown",
   "id": "c07b0aca-20a5-4e2c-ab9d-3a49e7195ed5",
   "metadata": {},
   "source": [
    "## Actual to Performance Price Differentials"
   ]
  },
  {
   "cell_type": "code",
   "execution_count": null,
   "id": "3d3938e7-ab0a-4ad5-9145-85071525bfbe",
   "metadata": {},
   "outputs": [],
   "source": [
    "driver_df['diff_price'] = driver_df['pts_price'] - driver_df['Current Price']\n",
    "driver_df[['Driver', 'pts_price', 'Current Price', 'diff_price', 'avg', 'median', 'Points/Million']].sort_values(by='diff_price', ascending=False)"
   ]
  },
  {
   "cell_type": "code",
   "execution_count": null,
   "id": "4d63635c-4398-4357-813a-a74b19e61adb",
   "metadata": {},
   "outputs": [],
   "source": [
    "driver_md = driver_df[['Driver', 'pts_price', 'Current Price', 'diff_price', 'avg', 'median']].sort_values(by='diff_price', ascending=False).to_markdown()\n",
    "print(driver_md)"
   ]
  },
  {
   "cell_type": "code",
   "execution_count": null,
   "id": "c49665f2-f09d-40c2-840a-d76a7d0a34ca",
   "metadata": {},
   "outputs": [],
   "source": [
    "car_df['diff_price'] = car_df['pts_price'] - car_df['Current Price']\n",
    "car_df[['Team', 'pts_price', 'Current Price', 'diff_price', 'avg', 'median']].sort_values(by='avg', ascending=False)"
   ]
  },
  {
   "cell_type": "code",
   "execution_count": null,
   "id": "9d06d095-8f2c-4e59-9f70-9ca34bfcf854",
   "metadata": {},
   "outputs": [],
   "source": [
    "car_md = car_df[['Team', 'pts_price', 'Current Price', 'diff_price', 'avg', 'median']].sort_values(by='diff_price', ascending=False).to_markdown() \n",
    "print(car_md)"
   ]
  },
  {
   "cell_type": "markdown",
   "id": "b5d84170-1e21-4c72-bf61-0aa67a636700",
   "metadata": {},
   "source": [
    "## Save Data"
   ]
  },
  {
   "cell_type": "code",
   "execution_count": null,
   "id": "970bda86-b7f4-4815-a37f-8d9f0169401c",
   "metadata": {},
   "outputs": [],
   "source": [
    "keep_cols_driver = [col for col in driver_df.columns if not col.startswith('Unnamed')]\n",
    "keep_cols_car = [col for col in car_df.columns if not col.startswith('Unnamed')]"
   ]
  },
  {
   "cell_type": "code",
   "execution_count": null,
   "id": "bf1194f8-d00f-40bf-891f-37dc59071521",
   "metadata": {},
   "outputs": [],
   "source": [
    "save_path = Path('./data/transform')"
   ]
  },
  {
   "cell_type": "code",
   "execution_count": null,
   "id": "49edfaee-434d-49d2-96e0-cffe83d3e335",
   "metadata": {},
   "outputs": [],
   "source": [
    "driver_df[keep_cols_driver].to_csv(save_path / 'driver.csv', sep='|', index=False)\n",
    "car_df[keep_cols_car].to_csv(save_path / 'car.csv', sep='|', index=False)"
   ]
  },
  {
   "cell_type": "code",
   "execution_count": null,
   "id": "0cf849ea-2cf3-408b-90ef-49ad7149c546",
   "metadata": {},
   "outputs": [],
   "source": []
  },
  {
   "cell_type": "code",
   "execution_count": null,
   "id": "49791279-292c-45b2-96dd-3633138cf0fd",
   "metadata": {},
   "outputs": [],
   "source": []
  }
 ],
 "metadata": {
  "kernelspec": {
   "display_name": "Python 3 (ipykernel)",
   "language": "python",
   "name": "python3"
  },
  "language_info": {
   "codemirror_mode": {
    "name": "ipython",
    "version": 3
   },
   "file_extension": ".py",
   "mimetype": "text/x-python",
   "name": "python",
   "nbconvert_exporter": "python",
   "pygments_lexer": "ipython3",
   "version": "3.9.12"
  }
 },
 "nbformat": 4,
 "nbformat_minor": 5
}
