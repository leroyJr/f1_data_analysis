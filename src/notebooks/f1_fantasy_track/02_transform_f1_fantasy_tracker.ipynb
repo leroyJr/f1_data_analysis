{
 "cells": [
  {
   "cell_type": "markdown",
   "id": "96af7890-ccee-4307-b9c4-7438cf8f2f3d",
   "metadata": {},
   "source": [
    "## Load Data"
   ]
  },
  {
   "cell_type": "code",
   "execution_count": 1,
   "id": "3239b841-5d3a-46f3-ae7b-c0cfa15f8be6",
   "metadata": {},
   "outputs": [
    {
     "data": {
      "text/plain": [
       "[PosixPath('../../data/f1_fan_track/driver_pts.csv'),\n",
       " PosixPath('../../data/f1_fan_track/team_price.csv'),\n",
       " PosixPath('../../data/f1_fan_track/team_pts.csv'),\n",
       " PosixPath('../../data/f1_fan_track/driver_price.csv')]"
      ]
     },
     "execution_count": 1,
     "metadata": {},
     "output_type": "execute_result"
    }
   ],
   "source": [
    "from pathlib import Path\n",
    "import pandas as pd\n",
    "import numpy as np\n",
    "\n",
    "data_path = Path('../../data/f1_fan_track')\n",
    "data_files = list(data_path.glob('*.csv'))\n",
    "data_files"
   ]
  },
  {
   "cell_type": "code",
   "execution_count": 2,
   "id": "ba9e19b6-c5f0-4f74-a416-7bab58d76a32",
   "metadata": {},
   "outputs": [],
   "source": [
    "frames = {}\n",
    "\n",
    "for f in data_files:\n",
    "    frames[f.stem] = pd.read_csv(f, sep='|')\n"
   ]
  },
  {
   "cell_type": "code",
   "execution_count": 3,
   "id": "3a3c0582-bdeb-4c05-a55f-3685b4a63d30",
   "metadata": {},
   "outputs": [],
   "source": [
    "pts_driver = frames.get('driver_pts').copy()\n",
    "pts_team = frames.get('team_pts').copy()\n",
    "price_driver = frames.get('driver_price').copy()\n",
    "price_team = frames.get('team_price').copy()"
   ]
  },
  {
   "cell_type": "markdown",
   "id": "6fb43f5c-6ea9-44ca-8474-7268adaad1ae",
   "metadata": {},
   "source": [
    "## Clean and Calculate"
   ]
  },
  {
   "cell_type": "markdown",
   "id": "73cffa98-6392-4f44-b53e-412321dc10d3",
   "metadata": {},
   "source": [
    "### Points Tables"
   ]
  },
  {
   "cell_type": "code",
   "execution_count": 4,
   "id": "5d88d95d-f323-4565-8f9d-6a0fdcce9afd",
   "metadata": {},
   "outputs": [
    {
     "data": {
      "text/plain": [
       "['BAH',\n",
       " 'SAU',\n",
       " 'AUS',\n",
       " 'ITA',\n",
       " 'USA',\n",
       " 'SPA',\n",
       " 'MON',\n",
       " 'AZE',\n",
       " 'CAN',\n",
       " 'BRI',\n",
       " 'AUS.1',\n",
       " 'FRA',\n",
       " 'HUN',\n",
       " 'BEL',\n",
       " 'NET',\n",
       " 'ITA.1',\n",
       " 'SIN',\n",
       " 'JAP',\n",
       " 'USA.1',\n",
       " 'MEX',\n",
       " 'BRA',\n",
       " 'ABU']"
      ]
     },
     "execution_count": 4,
     "metadata": {},
     "output_type": "execute_result"
    }
   ],
   "source": [
    "track_cols = [col for col in pts_driver.columns if (len(col) == 3 and col.isupper()) or col.endswith('.1') or col.endswith('.2')]\n",
    "track_cols"
   ]
  },
  {
   "cell_type": "markdown",
   "id": "6f5a7cb9-4d6b-4c3f-8666-245a16605e9d",
   "metadata": {},
   "source": [
    "#### Tracks with Scores"
   ]
  },
  {
   "cell_type": "code",
   "execution_count": 6,
   "id": "a7c82fd6-f3b8-4956-946e-d8f0acdfcd8b",
   "metadata": {},
   "outputs": [],
   "source": [
    "keep_track_cols = pts_driver[track_cols].sum()[pts_driver[track_cols].sum() > 0].index"
   ]
  },
  {
   "cell_type": "markdown",
   "id": "3feaea73-6212-4087-b802-1d614f0dffff",
   "metadata": {},
   "source": [
    "#### Points Metrics"
   ]
  },
  {
   "cell_type": "code",
   "execution_count": 9,
   "id": "c8ae3558-42eb-4aa6-9601-74007ccd96d1",
   "metadata": {},
   "outputs": [],
   "source": [
    "def calc_metrics(df):\n",
    "\n",
    "    df = df.replace(0, np.nan).dropna(axis=1)\n",
    "\n",
    "    df['avg'] = df[keep_track_cols].mean(axis=1)\n",
    "    df['max'] = df[keep_track_cols].max(axis=1)\n",
    "    df['median'] = df[keep_track_cols].median(axis=1)\n",
    "    \n",
    "    return df\n",
    "\n",
    "pts_driver = calc_metrics(pts_driver)\n",
    "pts_team = calc_metrics(pts_team)\n",
    "\n",
    "\n",
    "driver_total_avg_points = pts_driver['avg'].sum()  # The total points on average for all drivers\n",
    "car_total_avg_points = pts_team['avg'].sum()"
   ]
  },
  {
   "cell_type": "markdown",
   "id": "18bf2dfc-92ba-44cf-a90d-9a566a865a0d",
   "metadata": {},
   "source": [
    "### Price Tables"
   ]
  },
  {
   "cell_type": "code",
   "execution_count": 10,
   "id": "4a837231-7c72-41fd-b97c-61b13847a39e",
   "metadata": {},
   "outputs": [
    {
     "name": "stderr",
     "output_type": "stream",
     "text": [
      "/var/folders/1t/72nlh0w15gzfhdb9xjzgrm1h0000gn/T/ipykernel_54831/3083300969.py:3: FutureWarning: The default value of regex will change from True to False in a future version. In addition, single character regular expressions will *not* be treated as literal strings when regex=True.\n",
      "  df[col] = df[col].str.replace('$', '').str.replace('m', '').astype(float)\n"
     ]
    }
   ],
   "source": [
    "def fix_prices(df):\n",
    "    for col in ['Current Price', 'Season Start PriceSeason Price']: \n",
    "        df[col] = df[col].str.replace('$', '').str.replace('m', '').astype(float)\n",
    "\n",
    "    return df\n",
    "\n",
    "price_driver = fix_prices(price_driver)\n",
    "price_team = fix_prices(price_team)"
   ]
  },
  {
   "cell_type": "code",
   "execution_count": 12,
   "id": "16bab281-ccf8-449a-b988-c55f29fe81c0",
   "metadata": {},
   "outputs": [],
   "source": [
    "driver_total_price = price_driver['Current Price'].sum()\n",
    "car_total_price = price_team['Current Price'].sum()"
   ]
  },
  {
   "cell_type": "code",
   "execution_count": 13,
   "id": "467536db-cd4c-4d7f-917f-4a8561726fc6",
   "metadata": {},
   "outputs": [
    {
     "data": {
      "text/plain": [
       "165.79999999999998"
      ]
     },
     "execution_count": 13,
     "metadata": {},
     "output_type": "execute_result"
    }
   ],
   "source": [
    "car_total_price"
   ]
  },
  {
   "cell_type": "code",
   "execution_count": 15,
   "id": "690a9dc4-c5b9-43f8-a686-1f52ae46a010",
   "metadata": {},
   "outputs": [
    {
     "data": {
      "text/plain": [
       "167.5"
      ]
     },
     "execution_count": 15,
     "metadata": {},
     "output_type": "execute_result"
    }
   ],
   "source": [
    "price_team['Season Start PriceSeason Price'].sum()"
   ]
  },
  {
   "cell_type": "code",
   "execution_count": 16,
   "id": "87ca2380-c8c1-4835-8e8a-398e30939b3e",
   "metadata": {},
   "outputs": [
    {
     "data": {
      "text/plain": [
       "0.6274994383284657"
      ]
     },
     "execution_count": 16,
     "metadata": {},
     "output_type": "execute_result"
    }
   ],
   "source": [
    "driver_total_price / (driver_total_price + car_total_price)"
   ]
  },
  {
   "cell_type": "code",
   "execution_count": 17,
   "id": "6d08dddf-46b9-4f86-b61e-335c0c9bba74",
   "metadata": {},
   "outputs": [
    {
     "data": {
      "text/plain": [
       "1.6845597104945724"
      ]
     },
     "execution_count": 17,
     "metadata": {},
     "output_type": "execute_result"
    }
   ],
   "source": [
    "driver_total_price / car_total_price"
   ]
  },
  {
   "cell_type": "markdown",
   "id": "8216faba-f9d6-416e-bf9f-efe0a1d9439d",
   "metadata": {},
   "source": [
    "## Merge"
   ]
  },
  {
   "cell_type": "code",
   "execution_count": null,
   "id": "10875b8c-2264-4438-8474-2fb8a0e7449d",
   "metadata": {},
   "outputs": [],
   "source": []
  }
 ],
 "metadata": {
  "kernelspec": {
   "display_name": "Python 3 (ipykernel)",
   "language": "python",
   "name": "python3"
  },
  "language_info": {
   "codemirror_mode": {
    "name": "ipython",
    "version": 3
   },
   "file_extension": ".py",
   "mimetype": "text/x-python",
   "name": "python",
   "nbconvert_exporter": "python",
   "pygments_lexer": "ipython3",
   "version": "3.9.12"
  }
 },
 "nbformat": 4,
 "nbformat_minor": 5
}
